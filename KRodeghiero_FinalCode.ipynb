{
 "cells": [
  {
   "cell_type": "code",
   "execution_count": 1,
   "id": "e2e03a4e",
   "metadata": {},
   "outputs": [],
   "source": [
    "import pandas as pd"
   ]
  },
  {
   "cell_type": "code",
   "execution_count": 3,
   "id": "4750b3ea",
   "metadata": {},
   "outputs": [],
   "source": [
    "data = pd.read_csv(\"/Users/katierodeghiero/Downloads/data.csv\")"
   ]
  },
  {
   "cell_type": "code",
   "execution_count": 4,
   "id": "7ae23209",
   "metadata": {},
   "outputs": [
    {
     "data": {
      "text/html": [
       "<div>\n",
       "<style scoped>\n",
       "    .dataframe tbody tr th:only-of-type {\n",
       "        vertical-align: middle;\n",
       "    }\n",
       "\n",
       "    .dataframe tbody tr th {\n",
       "        vertical-align: top;\n",
       "    }\n",
       "\n",
       "    .dataframe thead th {\n",
       "        text-align: right;\n",
       "    }\n",
       "</style>\n",
       "<table border=\"1\" class=\"dataframe\">\n",
       "  <thead>\n",
       "    <tr style=\"text-align: right;\">\n",
       "      <th></th>\n",
       "      <th>ID</th>\n",
       "      <th>Language</th>\n",
       "      <th>Subscription Type</th>\n",
       "      <th>Subscription Event Type</th>\n",
       "      <th>Purchase Store</th>\n",
       "      <th>Subscription Start Date</th>\n",
       "      <th>Subscription Expiration</th>\n",
       "      <th>Demo User</th>\n",
       "      <th>Free Trial User</th>\n",
       "      <th>Auto Renew</th>\n",
       "      <th>Country</th>\n",
       "      <th>User Type</th>\n",
       "      <th>Lead Platform</th>\n",
       "      <th>Email Subscriber</th>\n",
       "      <th>Push Notifications</th>\n",
       "      <th>Time Duration_Months</th>\n",
       "    </tr>\n",
       "  </thead>\n",
       "  <tbody>\n",
       "    <tr>\n",
       "      <th>0</th>\n",
       "      <td>1</td>\n",
       "      <td>POR</td>\n",
       "      <td>Limited</td>\n",
       "      <td>INITIAL_PURCHASE</td>\n",
       "      <td>App</td>\n",
       "      <td>12/28/2018</td>\n",
       "      <td>6/28/2019</td>\n",
       "      <td>Yes</td>\n",
       "      <td>No</td>\n",
       "      <td>Off</td>\n",
       "      <td>US/Canada</td>\n",
       "      <td>Consumer</td>\n",
       "      <td>App</td>\n",
       "      <td>Yes</td>\n",
       "      <td>Yes</td>\n",
       "      <td>6</td>\n",
       "    </tr>\n",
       "    <tr>\n",
       "      <th>1</th>\n",
       "      <td>2</td>\n",
       "      <td>EBR</td>\n",
       "      <td>Limited</td>\n",
       "      <td>INITIAL_PURCHASE</td>\n",
       "      <td>Web</td>\n",
       "      <td>11/28/2019</td>\n",
       "      <td>2/28/2020</td>\n",
       "      <td>No</td>\n",
       "      <td>No</td>\n",
       "      <td>Off</td>\n",
       "      <td>Other</td>\n",
       "      <td>Consumer</td>\n",
       "      <td>Web</td>\n",
       "      <td>No</td>\n",
       "      <td>Yes</td>\n",
       "      <td>3</td>\n",
       "    </tr>\n",
       "    <tr>\n",
       "      <th>2</th>\n",
       "      <td>3</td>\n",
       "      <td>ESP</td>\n",
       "      <td>Limited</td>\n",
       "      <td>INITIAL_PURCHASE</td>\n",
       "      <td>Web</td>\n",
       "      <td>12/31/2018</td>\n",
       "      <td>12/31/2019</td>\n",
       "      <td>No</td>\n",
       "      <td>No</td>\n",
       "      <td>Off</td>\n",
       "      <td>US/Canada</td>\n",
       "      <td>Consumer</td>\n",
       "      <td>Web</td>\n",
       "      <td>Yes</td>\n",
       "      <td>Yes</td>\n",
       "      <td>12</td>\n",
       "    </tr>\n",
       "    <tr>\n",
       "      <th>3</th>\n",
       "      <td>4</td>\n",
       "      <td>KOR</td>\n",
       "      <td>Limited</td>\n",
       "      <td>INITIAL_PURCHASE</td>\n",
       "      <td>App</td>\n",
       "      <td>11/7/2019</td>\n",
       "      <td>2/7/2020</td>\n",
       "      <td>Yes</td>\n",
       "      <td>No</td>\n",
       "      <td>Off</td>\n",
       "      <td>US/Canada</td>\n",
       "      <td>Consumer</td>\n",
       "      <td>App</td>\n",
       "      <td>Yes</td>\n",
       "      <td>Yes</td>\n",
       "      <td>3</td>\n",
       "    </tr>\n",
       "    <tr>\n",
       "      <th>4</th>\n",
       "      <td>5</td>\n",
       "      <td>ENG</td>\n",
       "      <td>Limited</td>\n",
       "      <td>INITIAL_PURCHASE</td>\n",
       "      <td>App</td>\n",
       "      <td>8/13/2019</td>\n",
       "      <td>11/13/2019</td>\n",
       "      <td>No</td>\n",
       "      <td>No</td>\n",
       "      <td>Off</td>\n",
       "      <td>US/Canada</td>\n",
       "      <td>Consumer</td>\n",
       "      <td>Web</td>\n",
       "      <td>Yes</td>\n",
       "      <td>Yes</td>\n",
       "      <td>3</td>\n",
       "    </tr>\n",
       "    <tr>\n",
       "      <th>...</th>\n",
       "      <td>...</td>\n",
       "      <td>...</td>\n",
       "      <td>...</td>\n",
       "      <td>...</td>\n",
       "      <td>...</td>\n",
       "      <td>...</td>\n",
       "      <td>...</td>\n",
       "      <td>...</td>\n",
       "      <td>...</td>\n",
       "      <td>...</td>\n",
       "      <td>...</td>\n",
       "      <td>...</td>\n",
       "      <td>...</td>\n",
       "      <td>...</td>\n",
       "      <td>...</td>\n",
       "      <td>...</td>\n",
       "    </tr>\n",
       "    <tr>\n",
       "      <th>40093</th>\n",
       "      <td>39996</td>\n",
       "      <td>DEU</td>\n",
       "      <td>Limited</td>\n",
       "      <td>INITIAL_PURCHASE</td>\n",
       "      <td>Web</td>\n",
       "      <td>6/20/2019</td>\n",
       "      <td>4/14/2020</td>\n",
       "      <td>No</td>\n",
       "      <td>No</td>\n",
       "      <td>Off</td>\n",
       "      <td>Other</td>\n",
       "      <td>Other</td>\n",
       "      <td>Unknown</td>\n",
       "      <td>No</td>\n",
       "      <td>No</td>\n",
       "      <td>9</td>\n",
       "    </tr>\n",
       "    <tr>\n",
       "      <th>40094</th>\n",
       "      <td>39997</td>\n",
       "      <td>FRA</td>\n",
       "      <td>Limited</td>\n",
       "      <td>RENEWAL</td>\n",
       "      <td>App</td>\n",
       "      <td>2/24/2019</td>\n",
       "      <td>8/23/2019</td>\n",
       "      <td>No</td>\n",
       "      <td>No</td>\n",
       "      <td>Off</td>\n",
       "      <td>Other</td>\n",
       "      <td>Other</td>\n",
       "      <td>Unknown</td>\n",
       "      <td>No</td>\n",
       "      <td>No</td>\n",
       "      <td>5</td>\n",
       "    </tr>\n",
       "    <tr>\n",
       "      <th>40095</th>\n",
       "      <td>39998</td>\n",
       "      <td>TUR</td>\n",
       "      <td>Limited</td>\n",
       "      <td>RENEWAL</td>\n",
       "      <td>Web</td>\n",
       "      <td>5/15/2019</td>\n",
       "      <td>8/16/2019</td>\n",
       "      <td>No</td>\n",
       "      <td>No</td>\n",
       "      <td>Off</td>\n",
       "      <td>Europe</td>\n",
       "      <td>Consumer</td>\n",
       "      <td>Web</td>\n",
       "      <td>No</td>\n",
       "      <td>Yes</td>\n",
       "      <td>3</td>\n",
       "    </tr>\n",
       "    <tr>\n",
       "      <th>40096</th>\n",
       "      <td>39999</td>\n",
       "      <td>FRA</td>\n",
       "      <td>Limited</td>\n",
       "      <td>INITIAL_PURCHASE</td>\n",
       "      <td>App</td>\n",
       "      <td>12/30/2019</td>\n",
       "      <td>3/30/2020</td>\n",
       "      <td>Yes</td>\n",
       "      <td>No</td>\n",
       "      <td>On</td>\n",
       "      <td>US/Canada</td>\n",
       "      <td>Consumer</td>\n",
       "      <td>Web</td>\n",
       "      <td>Yes</td>\n",
       "      <td>Yes</td>\n",
       "      <td>3</td>\n",
       "    </tr>\n",
       "    <tr>\n",
       "      <th>40097</th>\n",
       "      <td>40000</td>\n",
       "      <td>ESP</td>\n",
       "      <td>Limited</td>\n",
       "      <td>RENEWAL</td>\n",
       "      <td>App</td>\n",
       "      <td>12/2/2018</td>\n",
       "      <td>12/5/2019</td>\n",
       "      <td>No</td>\n",
       "      <td>Yes</td>\n",
       "      <td>Off</td>\n",
       "      <td>US/Canada</td>\n",
       "      <td>Consumer</td>\n",
       "      <td>App</td>\n",
       "      <td>Yes</td>\n",
       "      <td>Yes</td>\n",
       "      <td>12</td>\n",
       "    </tr>\n",
       "  </tbody>\n",
       "</table>\n",
       "<p>40098 rows × 16 columns</p>\n",
       "</div>"
      ],
      "text/plain": [
       "          ID Language Subscription Type Subscription Event Type  \\\n",
       "0          1      POR           Limited        INITIAL_PURCHASE   \n",
       "1          2      EBR           Limited        INITIAL_PURCHASE   \n",
       "2          3      ESP           Limited        INITIAL_PURCHASE   \n",
       "3          4      KOR           Limited        INITIAL_PURCHASE   \n",
       "4          5      ENG           Limited        INITIAL_PURCHASE   \n",
       "...      ...      ...               ...                     ...   \n",
       "40093  39996      DEU           Limited        INITIAL_PURCHASE   \n",
       "40094  39997      FRA           Limited                 RENEWAL   \n",
       "40095  39998      TUR           Limited                 RENEWAL   \n",
       "40096  39999      FRA           Limited        INITIAL_PURCHASE   \n",
       "40097  40000      ESP           Limited                 RENEWAL   \n",
       "\n",
       "      Purchase Store Subscription Start Date Subscription Expiration  \\\n",
       "0                App              12/28/2018               6/28/2019   \n",
       "1                Web              11/28/2019               2/28/2020   \n",
       "2                Web              12/31/2018              12/31/2019   \n",
       "3                App               11/7/2019                2/7/2020   \n",
       "4                App               8/13/2019              11/13/2019   \n",
       "...              ...                     ...                     ...   \n",
       "40093            Web               6/20/2019               4/14/2020   \n",
       "40094            App               2/24/2019               8/23/2019   \n",
       "40095            Web               5/15/2019               8/16/2019   \n",
       "40096            App              12/30/2019               3/30/2020   \n",
       "40097            App               12/2/2018               12/5/2019   \n",
       "\n",
       "      Demo User Free Trial User Auto Renew    Country User Type Lead Platform  \\\n",
       "0           Yes              No        Off  US/Canada  Consumer           App   \n",
       "1            No              No        Off      Other  Consumer           Web   \n",
       "2            No              No        Off  US/Canada  Consumer           Web   \n",
       "3           Yes              No        Off  US/Canada  Consumer           App   \n",
       "4            No              No        Off  US/Canada  Consumer           Web   \n",
       "...         ...             ...        ...        ...       ...           ...   \n",
       "40093        No              No        Off      Other     Other       Unknown   \n",
       "40094        No              No        Off      Other     Other       Unknown   \n",
       "40095        No              No        Off     Europe  Consumer           Web   \n",
       "40096       Yes              No         On  US/Canada  Consumer           Web   \n",
       "40097        No             Yes        Off  US/Canada  Consumer           App   \n",
       "\n",
       "      Email Subscriber Push Notifications  Time Duration_Months  \n",
       "0                  Yes                Yes                     6  \n",
       "1                   No                Yes                     3  \n",
       "2                  Yes                Yes                    12  \n",
       "3                  Yes                Yes                     3  \n",
       "4                  Yes                Yes                     3  \n",
       "...                ...                ...                   ...  \n",
       "40093               No                 No                     9  \n",
       "40094               No                 No                     5  \n",
       "40095               No                Yes                     3  \n",
       "40096              Yes                Yes                     3  \n",
       "40097              Yes                Yes                    12  \n",
       "\n",
       "[40098 rows x 16 columns]"
      ]
     },
     "execution_count": 4,
     "metadata": {},
     "output_type": "execute_result"
    }
   ],
   "source": [
    "data"
   ]
  },
  {
   "cell_type": "code",
   "execution_count": 5,
   "id": "9cabe870",
   "metadata": {},
   "outputs": [],
   "source": [
    "app = pd.read_csv(\"/Users/katierodeghiero/Downloads/app.csv\")"
   ]
  },
  {
   "cell_type": "code",
   "execution_count": 6,
   "id": "f231d809",
   "metadata": {},
   "outputs": [
    {
     "data": {
      "text/html": [
       "<div>\n",
       "<style scoped>\n",
       "    .dataframe tbody tr th:only-of-type {\n",
       "        vertical-align: middle;\n",
       "    }\n",
       "\n",
       "    .dataframe tbody tr th {\n",
       "        vertical-align: top;\n",
       "    }\n",
       "\n",
       "    .dataframe thead th {\n",
       "        text-align: right;\n",
       "    }\n",
       "</style>\n",
       "<table border=\"1\" class=\"dataframe\">\n",
       "  <thead>\n",
       "    <tr style=\"text-align: right;\">\n",
       "      <th></th>\n",
       "      <th>ID</th>\n",
       "      <th>App Session Platform</th>\n",
       "      <th>App Activity Type</th>\n",
       "      <th>App Session Date</th>\n",
       "    </tr>\n",
       "  </thead>\n",
       "  <tbody>\n",
       "    <tr>\n",
       "      <th>0</th>\n",
       "      <td>1</td>\n",
       "      <td>ios</td>\n",
       "      <td>App Launch</td>\n",
       "      <td>3/20/2019</td>\n",
       "    </tr>\n",
       "    <tr>\n",
       "      <th>1</th>\n",
       "      <td>2</td>\n",
       "      <td>android</td>\n",
       "      <td>App Launch</td>\n",
       "      <td>12/3/2019</td>\n",
       "    </tr>\n",
       "    <tr>\n",
       "      <th>2</th>\n",
       "      <td>3</td>\n",
       "      <td>ios</td>\n",
       "      <td>App Launch</td>\n",
       "      <td>5/2/2019</td>\n",
       "    </tr>\n",
       "    <tr>\n",
       "      <th>3</th>\n",
       "      <td>4</td>\n",
       "      <td>ios</td>\n",
       "      <td>App Launch</td>\n",
       "      <td>2/6/2020</td>\n",
       "    </tr>\n",
       "    <tr>\n",
       "      <th>4</th>\n",
       "      <td>5</td>\n",
       "      <td>ios</td>\n",
       "      <td>Start</td>\n",
       "      <td>9/14/2019</td>\n",
       "    </tr>\n",
       "    <tr>\n",
       "      <th>...</th>\n",
       "      <td>...</td>\n",
       "      <td>...</td>\n",
       "      <td>...</td>\n",
       "      <td>...</td>\n",
       "    </tr>\n",
       "    <tr>\n",
       "      <th>809473</th>\n",
       "      <td>6098</td>\n",
       "      <td>ios</td>\n",
       "      <td>Other</td>\n",
       "      <td>10/21/2019</td>\n",
       "    </tr>\n",
       "    <tr>\n",
       "      <th>809474</th>\n",
       "      <td>13928</td>\n",
       "      <td>ios</td>\n",
       "      <td>Completed</td>\n",
       "      <td>3/12/2019</td>\n",
       "    </tr>\n",
       "    <tr>\n",
       "      <th>809475</th>\n",
       "      <td>1113</td>\n",
       "      <td>android</td>\n",
       "      <td>Other</td>\n",
       "      <td>3/29/2020</td>\n",
       "    </tr>\n",
       "    <tr>\n",
       "      <th>809476</th>\n",
       "      <td>571</td>\n",
       "      <td>ios</td>\n",
       "      <td>Start</td>\n",
       "      <td>2/10/2020</td>\n",
       "    </tr>\n",
       "    <tr>\n",
       "      <th>809477</th>\n",
       "      <td>15591</td>\n",
       "      <td>ios</td>\n",
       "      <td>App Launch</td>\n",
       "      <td>3/9/2020</td>\n",
       "    </tr>\n",
       "  </tbody>\n",
       "</table>\n",
       "<p>809478 rows × 4 columns</p>\n",
       "</div>"
      ],
      "text/plain": [
       "           ID App Session Platform App Activity Type App Session Date\n",
       "0           1                  ios        App Launch        3/20/2019\n",
       "1           2              android        App Launch        12/3/2019\n",
       "2           3                  ios        App Launch         5/2/2019\n",
       "3           4                  ios        App Launch         2/6/2020\n",
       "4           5                  ios             Start        9/14/2019\n",
       "...       ...                  ...               ...              ...\n",
       "809473   6098                  ios             Other       10/21/2019\n",
       "809474  13928                  ios         Completed        3/12/2019\n",
       "809475   1113              android             Other        3/29/2020\n",
       "809476    571                  ios             Start        2/10/2020\n",
       "809477  15591                  ios        App Launch         3/9/2020\n",
       "\n",
       "[809478 rows x 4 columns]"
      ]
     },
     "execution_count": 6,
     "metadata": {},
     "output_type": "execute_result"
    }
   ],
   "source": [
    "app"
   ]
  },
  {
   "cell_type": "code",
   "execution_count": 115,
   "id": "a42a7fc3",
   "metadata": {},
   "outputs": [
    {
     "data": {
      "text/plain": [
       "9844"
      ]
     },
     "execution_count": 115,
     "metadata": {},
     "output_type": "execute_result"
    }
   ],
   "source": [
    "(data[\"Language\"]=='ESP').sum()"
   ]
  },
  {
   "cell_type": "code",
   "execution_count": 116,
   "id": "1600c8a9",
   "metadata": {},
   "outputs": [
    {
     "data": {
      "text/plain": [
       "(40098, 16)"
      ]
     },
     "execution_count": 116,
     "metadata": {},
     "output_type": "execute_result"
    }
   ],
   "source": [
    "data.shape"
   ]
  },
  {
   "cell_type": "code",
   "execution_count": 117,
   "id": "8123fbfb",
   "metadata": {},
   "outputs": [
    {
     "name": "stdout",
     "output_type": "stream",
     "text": [
      "0.24549852860491794\n"
     ]
    }
   ],
   "source": [
    "print(9844/40098)"
   ]
  },
  {
   "cell_type": "code",
   "execution_count": 77,
   "id": "aa0dd9e8",
   "metadata": {},
   "outputs": [
    {
     "data": {
      "text/plain": [
       "Text(0.5, 1.0, 'Purchases by Platform')"
      ]
     },
     "execution_count": 77,
     "metadata": {},
     "output_type": "execute_result"
    },
    {
     "data": {
      "image/png": "[encoded data removed]",
      "text/plain": [
       "<Figure size 792x576 with 1 Axes>"
      ]
     },
     "metadata": {
      "needs_background": "light"
     },
     "output_type": "display_data"
    }
   ],
   "source": [
    "color_list = [\"#4472c4\",\"#ea7c35\"]\n",
    "ax = data['Purchase Store'].value_counts().plot(kind='bar',\n",
    "                                    figsize=(11,8),\n",
    "                                    color = color_list)\n",
    "ax.set_xlabel(\"Purchase Store\", size = 20)\n",
    "ax.set_ylabel(\"Counts\", size = 20)\n",
    "ax.tick_params(axis='both', labelsize=15)\n",
    "ax.set_title(\"Purchases by Platform\", \n",
    "             fontsize = 20)\n",
    "\n"
   ]
  },
  {
   "cell_type": "code",
   "execution_count": 108,
   "id": "b6c86a4e",
   "metadata": {},
   "outputs": [
    {
     "data": {
      "image/png": "[encoded data removed]",
      "text/plain": [
       "<Figure size 1800x864 with 1 Axes>"
      ]
     },
     "metadata": {},
     "output_type": "display_data"
    }
   ],
   "source": [
    "color_list = [\"#4472c4\",\"#ea7c35\", \"#f34c54\", \"#ffa800\", \"#00b6cb\", \"#5e35b1\", \"#7db544\"]\n",
    "ax = data['Lead Platform'].value_counts().plot(kind='pie',\n",
    "                                    figsize=(25,12),\n",
    "                                    fontsize = 15)\n",
    "ax.set_title(\"Lead Platform\", \n",
    "             fontsize = 20)\n",
    "ax.yaxis.set_visible(False)\n",
    "#ax.set_xlabel(\"Purchase Store\", size = 20)\n",
    "#ax.set_ylabel(\"Counts\", size = 20)\n",
    "# ax.tick_params(axis='both', labelsize=20)\n",
    "#ax.set_title()"
   ]
  },
  {
   "cell_type": "code",
   "execution_count": 111,
   "id": "479ab6d8",
   "metadata": {},
   "outputs": [
    {
     "data": {
      "text/plain": [
       "Text(0.5, 1.0, 'Language Learning')"
      ]
     },
     "execution_count": 111,
     "metadata": {},
     "output_type": "execute_result"
    },
    {
     "data": {
      "image/png": "[encoded data removed]",
      "text/plain": [
       "<Figure size 1008x576 with 1 Axes>"
      ]
     },
     "metadata": {
      "needs_background": "light"
     },
     "output_type": "display_data"
    }
   ],
   "source": [
    "ax = data['Language'].value_counts().plot(kind='bar',\n",
    "                                    figsize=(14,8),\n",
    "                                    title=\"Language Learning\",\n",
    "                                    color = color_list)\n",
    "ax.set_xlabel(\"Language\", size = 20)\n",
    "ax.set_ylabel(\"Counts\", size = 20)\n",
    "ax.tick_params(axis='both', labelsize=15)\n",
    "ax.set_title(\"Language Learning\", \n",
    "             fontsize = 20)"
   ]
  },
  {
   "cell_type": "code",
   "execution_count": 30,
   "id": "b10603aa",
   "metadata": {},
   "outputs": [
    {
     "data": {
      "image/png": "[encoded data removed]",
      "text/plain": [
       "<Figure size 1008x576 with 1 Axes>"
      ]
     },
     "metadata": {
      "needs_background": "light"
     },
     "output_type": "display_data"
    }
   ],
   "source": [
    "ax = app['App Activity Type'].value_counts().plot(kind='bar',\n",
    "                                    figsize=(14,8),\n",
    "                                    title=\"Language Learning\")\n",
    "ax.set_xlabel(\"Language\", size = 20)\n",
    "ax.set_ylabel(\"Counts\", size = 20)\n",
    "ax.tick_params(axis='both', labelsize=15)"
   ]
  },
  {
   "cell_type": "code",
   "execution_count": 34,
   "id": "c70bd603",
   "metadata": {},
   "outputs": [
    {
     "data": {
      "image/png": "[encoded data removed]",
      "text/plain": [
       "<Figure size 864x432 with 1 Axes>"
      ]
     },
     "metadata": {
      "needs_background": "light"
     },
     "output_type": "display_data"
    }
   ],
   "source": [
    "color_list = [\"#4472c4\",\"#ea7c35\", \"#f34c54\"]\n",
    "ax = data['Country'].value_counts().plot(kind='bar',\n",
    "                                    figsize=(12,6),\n",
    "                                    title=\"Subscribers by Country\",\n",
    "                                    color = color_list)\n",
    "ax.set_xlabel(\"Country\", size = 20)\n",
    "ax.set_ylabel(\"Subscriber Count\", size = 20)\n",
    "ax.tick_params(axis='both', labelsize=15)"
   ]
  },
  {
   "cell_type": "code",
   "execution_count": 39,
   "id": "b3256fbf",
   "metadata": {},
   "outputs": [
    {
     "data": {
      "text/html": [
       "<div>\n",
       "<style scoped>\n",
       "    .dataframe tbody tr th:only-of-type {\n",
       "        vertical-align: middle;\n",
       "    }\n",
       "\n",
       "    .dataframe tbody tr th {\n",
       "        vertical-align: top;\n",
       "    }\n",
       "\n",
       "    .dataframe thead th {\n",
       "        text-align: right;\n",
       "    }\n",
       "</style>\n",
       "<table border=\"1\" class=\"dataframe\">\n",
       "  <thead>\n",
       "    <tr style=\"text-align: right;\">\n",
       "      <th></th>\n",
       "      <th>ID</th>\n",
       "      <th>App Session Platform</th>\n",
       "      <th>App Activity Type</th>\n",
       "      <th>App Session Date</th>\n",
       "    </tr>\n",
       "  </thead>\n",
       "  <tbody>\n",
       "    <tr>\n",
       "      <th>5</th>\n",
       "      <td>6</td>\n",
       "      <td>android</td>\n",
       "      <td>Completed</td>\n",
       "      <td>8/26/2019</td>\n",
       "    </tr>\n",
       "    <tr>\n",
       "      <th>7</th>\n",
       "      <td>8</td>\n",
       "      <td>ios</td>\n",
       "      <td>Completed</td>\n",
       "      <td>2/27/2020</td>\n",
       "    </tr>\n",
       "    <tr>\n",
       "      <th>10</th>\n",
       "      <td>11</td>\n",
       "      <td>ios</td>\n",
       "      <td>Completed</td>\n",
       "      <td>5/18/2019</td>\n",
       "    </tr>\n",
       "    <tr>\n",
       "      <th>13</th>\n",
       "      <td>14</td>\n",
       "      <td>ios</td>\n",
       "      <td>Completed</td>\n",
       "      <td>3/26/2020</td>\n",
       "    </tr>\n",
       "    <tr>\n",
       "      <th>20</th>\n",
       "      <td>21</td>\n",
       "      <td>android</td>\n",
       "      <td>Completed</td>\n",
       "      <td>9/27/2019</td>\n",
       "    </tr>\n",
       "    <tr>\n",
       "      <th>...</th>\n",
       "      <td>...</td>\n",
       "      <td>...</td>\n",
       "      <td>...</td>\n",
       "      <td>...</td>\n",
       "    </tr>\n",
       "    <tr>\n",
       "      <th>809445</th>\n",
       "      <td>3740</td>\n",
       "      <td>android</td>\n",
       "      <td>Completed</td>\n",
       "      <td>7/9/2019</td>\n",
       "    </tr>\n",
       "    <tr>\n",
       "      <th>809448</th>\n",
       "      <td>2492</td>\n",
       "      <td>android</td>\n",
       "      <td>Completed</td>\n",
       "      <td>1/5/2020</td>\n",
       "    </tr>\n",
       "    <tr>\n",
       "      <th>809453</th>\n",
       "      <td>7487</td>\n",
       "      <td>ios</td>\n",
       "      <td>Completed</td>\n",
       "      <td>1/8/2020</td>\n",
       "    </tr>\n",
       "    <tr>\n",
       "      <th>809462</th>\n",
       "      <td>2577</td>\n",
       "      <td>ios</td>\n",
       "      <td>Completed</td>\n",
       "      <td>2/1/2020</td>\n",
       "    </tr>\n",
       "    <tr>\n",
       "      <th>809474</th>\n",
       "      <td>13928</td>\n",
       "      <td>ios</td>\n",
       "      <td>Completed</td>\n",
       "      <td>3/12/2019</td>\n",
       "    </tr>\n",
       "  </tbody>\n",
       "</table>\n",
       "<p>173418 rows × 4 columns</p>\n",
       "</div>"
      ],
      "text/plain": [
       "           ID App Session Platform App Activity Type App Session Date\n",
       "5           6              android         Completed        8/26/2019\n",
       "7           8                  ios         Completed        2/27/2020\n",
       "10         11                  ios         Completed        5/18/2019\n",
       "13         14                  ios         Completed        3/26/2020\n",
       "20         21              android         Completed        9/27/2019\n",
       "...       ...                  ...               ...              ...\n",
       "809445   3740              android         Completed         7/9/2019\n",
       "809448   2492              android         Completed         1/5/2020\n",
       "809453   7487                  ios         Completed         1/8/2020\n",
       "809462   2577                  ios         Completed         2/1/2020\n",
       "809474  13928                  ios         Completed        3/12/2019\n",
       "\n",
       "[173418 rows x 4 columns]"
      ]
     },
     "execution_count": 39,
     "metadata": {},
     "output_type": "execute_result"
    }
   ],
   "source": [
    "hold = app[\"App Activity Type\"] == \"Completed\"\n",
    "comp_app = app.loc[hold]\n",
    "comp_app"
   ]
  },
  {
   "cell_type": "code",
   "execution_count": 67,
   "id": "9c0b9bc0",
   "metadata": {},
   "outputs": [
    {
     "data": {
      "text/plain": [
       "(173942, 19)"
      ]
     },
     "execution_count": 67,
     "metadata": {},
     "output_type": "execute_result"
    }
   ],
   "source": [
    "new = comp_app.merge(data, how='left', on='ID')\n",
    "new.head()\n"
   ]
  },
  {
   "cell_type": "code",
   "execution_count": 82,
   "id": "e0236556",
   "metadata": {},
   "outputs": [
    {
     "data": {
      "text/html": [
       "<div>\n",
       "<style scoped>\n",
       "    .dataframe tbody tr th:only-of-type {\n",
       "        vertical-align: middle;\n",
       "    }\n",
       "\n",
       "    .dataframe tbody tr th {\n",
       "        vertical-align: top;\n",
       "    }\n",
       "\n",
       "    .dataframe thead th {\n",
       "        text-align: right;\n",
       "    }\n",
       "</style>\n",
       "<table border=\"1\" class=\"dataframe\">\n",
       "  <thead>\n",
       "    <tr style=\"text-align: right;\">\n",
       "      <th></th>\n",
       "      <th>ID</th>\n",
       "      <th>App Session Platform</th>\n",
       "      <th>App Activity Type</th>\n",
       "      <th>App Session Date</th>\n",
       "      <th>Language</th>\n",
       "      <th>Subscription Type</th>\n",
       "      <th>Subscription Event Type</th>\n",
       "      <th>Purchase Store</th>\n",
       "      <th>Subscription Start Date</th>\n",
       "      <th>Subscription Expiration</th>\n",
       "      <th>Demo User</th>\n",
       "      <th>Free Trial User</th>\n",
       "      <th>Auto Renew</th>\n",
       "      <th>Country</th>\n",
       "      <th>User Type</th>\n",
       "      <th>Lead Platform</th>\n",
       "      <th>Email Subscriber</th>\n",
       "      <th>Push Notifications</th>\n",
       "      <th>Time Duration_Months</th>\n",
       "    </tr>\n",
       "  </thead>\n",
       "  <tbody>\n",
       "    <tr>\n",
       "      <th>0</th>\n",
       "      <td>6</td>\n",
       "      <td>android</td>\n",
       "      <td>Completed</td>\n",
       "      <td>8/26/2019</td>\n",
       "      <td>ESP</td>\n",
       "      <td>Limited</td>\n",
       "      <td>INITIAL_PURCHASE</td>\n",
       "      <td>Web</td>\n",
       "      <td>8/23/2019</td>\n",
       "      <td>11/23/2019</td>\n",
       "      <td>Yes</td>\n",
       "      <td>No</td>\n",
       "      <td>Off</td>\n",
       "      <td>US/Canada</td>\n",
       "      <td>Consumer</td>\n",
       "      <td>App</td>\n",
       "      <td>Yes</td>\n",
       "      <td>Yes</td>\n",
       "      <td>3.0</td>\n",
       "    </tr>\n",
       "    <tr>\n",
       "      <th>1</th>\n",
       "      <td>8</td>\n",
       "      <td>ios</td>\n",
       "      <td>Completed</td>\n",
       "      <td>2/27/2020</td>\n",
       "      <td>DEU</td>\n",
       "      <td>Limited</td>\n",
       "      <td>INITIAL_PURCHASE</td>\n",
       "      <td>Web</td>\n",
       "      <td>3/7/2020</td>\n",
       "      <td>6/7/2020</td>\n",
       "      <td>Yes</td>\n",
       "      <td>No</td>\n",
       "      <td>On</td>\n",
       "      <td>US/Canada</td>\n",
       "      <td>Consumer</td>\n",
       "      <td>App</td>\n",
       "      <td>Yes</td>\n",
       "      <td>Yes</td>\n",
       "      <td>3.0</td>\n",
       "    </tr>\n",
       "    <tr>\n",
       "      <th>2</th>\n",
       "      <td>11</td>\n",
       "      <td>ios</td>\n",
       "      <td>Completed</td>\n",
       "      <td>5/18/2019</td>\n",
       "      <td>FRA</td>\n",
       "      <td>Limited</td>\n",
       "      <td>RENEWAL</td>\n",
       "      <td>App</td>\n",
       "      <td>5/16/2019</td>\n",
       "      <td>5/16/2020</td>\n",
       "      <td>Yes</td>\n",
       "      <td>No</td>\n",
       "      <td>On</td>\n",
       "      <td>Europe</td>\n",
       "      <td>Consumer</td>\n",
       "      <td>App</td>\n",
       "      <td>No</td>\n",
       "      <td>Yes</td>\n",
       "      <td>12.0</td>\n",
       "    </tr>\n",
       "    <tr>\n",
       "      <th>3</th>\n",
       "      <td>14</td>\n",
       "      <td>ios</td>\n",
       "      <td>Completed</td>\n",
       "      <td>3/26/2020</td>\n",
       "      <td>ALL</td>\n",
       "      <td>Limited</td>\n",
       "      <td>INITIAL_PURCHASE</td>\n",
       "      <td>Web</td>\n",
       "      <td>3/25/2020</td>\n",
       "      <td>3/25/2022</td>\n",
       "      <td>No</td>\n",
       "      <td>No</td>\n",
       "      <td>On</td>\n",
       "      <td>US/Canada</td>\n",
       "      <td>Consumer</td>\n",
       "      <td>Web</td>\n",
       "      <td>Yes</td>\n",
       "      <td>Yes</td>\n",
       "      <td>24.0</td>\n",
       "    </tr>\n",
       "    <tr>\n",
       "      <th>4</th>\n",
       "      <td>21</td>\n",
       "      <td>android</td>\n",
       "      <td>Completed</td>\n",
       "      <td>9/27/2019</td>\n",
       "      <td>JPN</td>\n",
       "      <td>Limited</td>\n",
       "      <td>INITIAL_PURCHASE</td>\n",
       "      <td>Web</td>\n",
       "      <td>6/19/2019</td>\n",
       "      <td>6/19/2020</td>\n",
       "      <td>Yes</td>\n",
       "      <td>No</td>\n",
       "      <td>On</td>\n",
       "      <td>Europe</td>\n",
       "      <td>Consumer</td>\n",
       "      <td>Web</td>\n",
       "      <td>No</td>\n",
       "      <td>Yes</td>\n",
       "      <td>12.0</td>\n",
       "    </tr>\n",
       "  </tbody>\n",
       "</table>\n",
       "</div>"
      ],
      "text/plain": [
       "   ID App Session Platform App Activity Type App Session Date Language  \\\n",
       "0   6              android         Completed        8/26/2019      ESP   \n",
       "1   8                  ios         Completed        2/27/2020      DEU   \n",
       "2  11                  ios         Completed        5/18/2019      FRA   \n",
       "3  14                  ios         Completed        3/26/2020      ALL   \n",
       "4  21              android         Completed        9/27/2019      JPN   \n",
       "\n",
       "  Subscription Type Subscription Event Type Purchase Store  \\\n",
       "0           Limited        INITIAL_PURCHASE            Web   \n",
       "1           Limited        INITIAL_PURCHASE            Web   \n",
       "2           Limited                 RENEWAL            App   \n",
       "3           Limited        INITIAL_PURCHASE            Web   \n",
       "4           Limited        INITIAL_PURCHASE            Web   \n",
       "\n",
       "  Subscription Start Date Subscription Expiration Demo User Free Trial User  \\\n",
       "0               8/23/2019              11/23/2019       Yes              No   \n",
       "1                3/7/2020                6/7/2020       Yes              No   \n",
       "2               5/16/2019               5/16/2020       Yes              No   \n",
       "3               3/25/2020               3/25/2022        No              No   \n",
       "4               6/19/2019               6/19/2020       Yes              No   \n",
       "\n",
       "  Auto Renew    Country User Type Lead Platform Email Subscriber  \\\n",
       "0        Off  US/Canada  Consumer           App              Yes   \n",
       "1         On  US/Canada  Consumer           App              Yes   \n",
       "2         On     Europe  Consumer           App               No   \n",
       "3         On  US/Canada  Consumer           Web              Yes   \n",
       "4         On     Europe  Consumer           Web               No   \n",
       "\n",
       "  Push Notifications  Time Duration_Months  \n",
       "0                Yes                   3.0  \n",
       "1                Yes                   3.0  \n",
       "2                Yes                  12.0  \n",
       "3                Yes                  24.0  \n",
       "4                Yes                  12.0  "
      ]
     },
     "execution_count": 82,
     "metadata": {},
     "output_type": "execute_result"
    }
   ],
   "source": [
    "new = new.drop_duplicates(subset=['ID'])\n",
    "new.head()\n"
   ]
  },
  {
   "cell_type": "code",
   "execution_count": 118,
   "id": "f7433efa",
   "metadata": {},
   "outputs": [
    {
     "data": {
      "text/plain": [
       "Text(0.5, 1.0, 'Subscriptions Completed by Languge')"
      ]
     },
     "execution_count": 118,
     "metadata": {},
     "output_type": "execute_result"
    },
    {
     "data": {
      "image/png": "[encoded data removed]",
      "text/plain": [
       "<Figure size 864x432 with 1 Axes>"
      ]
     },
     "metadata": {
      "needs_background": "light"
     },
     "output_type": "display_data"
    }
   ],
   "source": [
    "ax = new['Language'].value_counts().plot(kind='bar',\n",
    "                                    figsize=(12,6),\n",
    "                                    title=\"Subscribers Completed by Language\",\n",
    "                                    color = color_list)\n",
    "ax.set_xlabel(\"Language\", size = 20)\n",
    "ax.set_ylabel(\"Numebr completed\", size = 20)\n",
    "ax.tick_params(axis='both', labelsize=15)\n",
    "ax.set_title(\"Subscriptions Completed by Languge\", \n",
    "             fontsize = 20)"
   ]
  },
  {
   "cell_type": "code",
   "execution_count": 72,
   "id": "1e822c10",
   "metadata": {},
   "outputs": [
    {
     "name": "stdout",
     "output_type": "stream",
     "text": [
      "ID                          38941\n",
      "App Session Platform          web\n",
      "App Activity Type       Completed\n",
      "App Session Date         9/9/2019\n",
      "Time Duration_Months        963.0\n",
      "dtype: object\n"
     ]
    }
   ],
   "source": [
    "print(new.max())"
   ]
  },
  {
   "cell_type": "code",
   "execution_count": 120,
   "id": "86c1bc52",
   "metadata": {},
   "outputs": [
    {
     "data": {
      "image/png": "[encoded data removed]",
      "text/plain": [
       "<Figure size 1800x864 with 1 Axes>"
      ]
     },
     "metadata": {},
     "output_type": "display_data"
    }
   ],
   "source": [
    "#color_list = [\"#4472c4\",\"#ea7c35\"]\n",
    "ax = new['Lead Platform'].value_counts().plot(kind='pie',\n",
    "                                    figsize=(25,12),\n",
    "                                    fontsize = 22)\n",
    "ax.set_title(\"Complete by Lead Platform\", \n",
    "             fontsize = 25)\n",
    "ax.yaxis.set_visible(False)"
   ]
  },
  {
   "cell_type": "code",
   "execution_count": 84,
   "id": "bc67aef2",
   "metadata": {},
   "outputs": [
    {
     "data": {
      "image/png": "[encoded data removed]",
      "text/plain": [
       "<Figure size 1800x864 with 1 Axes>"
      ]
     },
     "metadata": {},
     "output_type": "display_data"
    }
   ],
   "source": [
    "ax = new['Email Subscriber'].value_counts().plot(kind='pie',\n",
    "                                    figsize=(25,12),\n",
    "                                    fontsize = 15)\n",
    "ax.set_title(\"Email sub comp\", \n",
    "             fontsize = 20)\n",
    "ax.yaxis.set_visible(False)"
   ]
  },
  {
   "cell_type": "code",
   "execution_count": 86,
   "id": "87e0f331",
   "metadata": {},
   "outputs": [
    {
     "data": {
      "image/png": "[encoded data removed]",
      "text/plain": [
       "<Figure size 1800x864 with 1 Axes>"
      ]
     },
     "metadata": {},
     "output_type": "display_data"
    }
   ],
   "source": [
    "ax = new['Push Notifications'].value_counts().plot(kind='pie',\n",
    "                                    figsize=(25,12),\n",
    "                                    fontsize = 15)\n",
    "ax.set_title(\"Email sub comp\", \n",
    "             fontsize = 20)\n",
    "ax.yaxis.set_visible(False)"
   ]
  },
  {
   "cell_type": "code",
   "execution_count": 87,
   "id": "4aeecef4",
   "metadata": {},
   "outputs": [],
   "source": [
    "new_new = date.merge(app, how='left', on='ID')\n",
    "new_new = new_new.drop_duplicates(subset=['ID'])"
   ]
  },
  {
   "cell_type": "code",
   "execution_count": 90,
   "id": "3bb07b8c",
   "metadata": {},
   "outputs": [
    {
     "data": {
      "text/plain": [
       "(17508, 34)"
      ]
     },
     "execution_count": 90,
     "metadata": {},
     "output_type": "execute_result"
    }
   ],
   "source": [
    "new_new.shape"
   ]
  },
  {
   "cell_type": "code",
   "execution_count": 92,
   "id": "1c1be359",
   "metadata": {},
   "outputs": [
    {
     "data": {
      "text/plain": [
       "(39985, 19)"
      ]
     },
     "execution_count": 92,
     "metadata": {},
     "output_type": "execute_result"
    }
   ],
   "source": [
    "hold2 = app[\"App Activity Type\"] != \"Completed\"\n",
    "else_app = app.loc[hold2]\n",
    "else_app\n",
    "\n",
    "new_new = else_app.merge(data, how='left', on='ID')\n",
    "new_new = new_new.drop_duplicates(subset=['ID'])\n",
    "new_new.shape"
   ]
  },
  {
   "cell_type": "code",
   "execution_count": 100,
   "id": "3dd38dc8",
   "metadata": {},
   "outputs": [
    {
     "data": {
      "text/html": [
       "<div>\n",
       "<style scoped>\n",
       "    .dataframe tbody tr th:only-of-type {\n",
       "        vertical-align: middle;\n",
       "    }\n",
       "\n",
       "    .dataframe tbody tr th {\n",
       "        vertical-align: top;\n",
       "    }\n",
       "\n",
       "    .dataframe thead th {\n",
       "        text-align: right;\n",
       "    }\n",
       "</style>\n",
       "<table border=\"1\" class=\"dataframe\">\n",
       "  <thead>\n",
       "    <tr style=\"text-align: right;\">\n",
       "      <th></th>\n",
       "      <th>ID</th>\n",
       "      <th>App Session Platform</th>\n",
       "      <th>App Activity Type</th>\n",
       "      <th>App Session Date</th>\n",
       "      <th>Language</th>\n",
       "      <th>Subscription Type</th>\n",
       "      <th>Subscription Event Type</th>\n",
       "      <th>Purchase Store</th>\n",
       "      <th>Subscription Start Date</th>\n",
       "      <th>Subscription Expiration</th>\n",
       "      <th>Demo User</th>\n",
       "      <th>Free Trial User</th>\n",
       "      <th>Auto Renew</th>\n",
       "      <th>Country</th>\n",
       "      <th>User Type</th>\n",
       "      <th>Lead Platform</th>\n",
       "      <th>Email Subscriber</th>\n",
       "      <th>Push Notifications</th>\n",
       "      <th>Time Duration_Months</th>\n",
       "    </tr>\n",
       "  </thead>\n",
       "  <tbody>\n",
       "    <tr>\n",
       "      <th>0</th>\n",
       "      <td>6</td>\n",
       "      <td>android</td>\n",
       "      <td>Completed</td>\n",
       "      <td>8/26/2019</td>\n",
       "      <td>ESP</td>\n",
       "      <td>Limited</td>\n",
       "      <td>INITIAL_PURCHASE</td>\n",
       "      <td>Web</td>\n",
       "      <td>8/23/2019</td>\n",
       "      <td>11/23/2019</td>\n",
       "      <td>Yes</td>\n",
       "      <td>No</td>\n",
       "      <td>Off</td>\n",
       "      <td>US/Canada</td>\n",
       "      <td>Consumer</td>\n",
       "      <td>App</td>\n",
       "      <td>Yes</td>\n",
       "      <td>Yes</td>\n",
       "      <td>3.0</td>\n",
       "    </tr>\n",
       "    <tr>\n",
       "      <th>1</th>\n",
       "      <td>8</td>\n",
       "      <td>ios</td>\n",
       "      <td>Completed</td>\n",
       "      <td>2/27/2020</td>\n",
       "      <td>DEU</td>\n",
       "      <td>Limited</td>\n",
       "      <td>INITIAL_PURCHASE</td>\n",
       "      <td>Web</td>\n",
       "      <td>3/7/2020</td>\n",
       "      <td>6/7/2020</td>\n",
       "      <td>Yes</td>\n",
       "      <td>No</td>\n",
       "      <td>On</td>\n",
       "      <td>US/Canada</td>\n",
       "      <td>Consumer</td>\n",
       "      <td>App</td>\n",
       "      <td>Yes</td>\n",
       "      <td>Yes</td>\n",
       "      <td>3.0</td>\n",
       "    </tr>\n",
       "    <tr>\n",
       "      <th>2</th>\n",
       "      <td>11</td>\n",
       "      <td>ios</td>\n",
       "      <td>Completed</td>\n",
       "      <td>5/18/2019</td>\n",
       "      <td>FRA</td>\n",
       "      <td>Limited</td>\n",
       "      <td>RENEWAL</td>\n",
       "      <td>App</td>\n",
       "      <td>5/16/2019</td>\n",
       "      <td>5/16/2020</td>\n",
       "      <td>Yes</td>\n",
       "      <td>No</td>\n",
       "      <td>On</td>\n",
       "      <td>Europe</td>\n",
       "      <td>Consumer</td>\n",
       "      <td>App</td>\n",
       "      <td>No</td>\n",
       "      <td>Yes</td>\n",
       "      <td>12.0</td>\n",
       "    </tr>\n",
       "    <tr>\n",
       "      <th>3</th>\n",
       "      <td>14</td>\n",
       "      <td>ios</td>\n",
       "      <td>Completed</td>\n",
       "      <td>3/26/2020</td>\n",
       "      <td>ALL</td>\n",
       "      <td>Limited</td>\n",
       "      <td>INITIAL_PURCHASE</td>\n",
       "      <td>Web</td>\n",
       "      <td>3/25/2020</td>\n",
       "      <td>3/25/2022</td>\n",
       "      <td>No</td>\n",
       "      <td>No</td>\n",
       "      <td>On</td>\n",
       "      <td>US/Canada</td>\n",
       "      <td>Consumer</td>\n",
       "      <td>Web</td>\n",
       "      <td>Yes</td>\n",
       "      <td>Yes</td>\n",
       "      <td>24.0</td>\n",
       "    </tr>\n",
       "    <tr>\n",
       "      <th>4</th>\n",
       "      <td>21</td>\n",
       "      <td>android</td>\n",
       "      <td>Completed</td>\n",
       "      <td>9/27/2019</td>\n",
       "      <td>JPN</td>\n",
       "      <td>Limited</td>\n",
       "      <td>INITIAL_PURCHASE</td>\n",
       "      <td>Web</td>\n",
       "      <td>6/19/2019</td>\n",
       "      <td>6/19/2020</td>\n",
       "      <td>Yes</td>\n",
       "      <td>No</td>\n",
       "      <td>On</td>\n",
       "      <td>Europe</td>\n",
       "      <td>Consumer</td>\n",
       "      <td>Web</td>\n",
       "      <td>No</td>\n",
       "      <td>Yes</td>\n",
       "      <td>12.0</td>\n",
       "    </tr>\n",
       "  </tbody>\n",
       "</table>\n",
       "</div>"
      ],
      "text/plain": [
       "   ID App Session Platform App Activity Type App Session Date Language  \\\n",
       "0   6              android         Completed        8/26/2019      ESP   \n",
       "1   8                  ios         Completed        2/27/2020      DEU   \n",
       "2  11                  ios         Completed        5/18/2019      FRA   \n",
       "3  14                  ios         Completed        3/26/2020      ALL   \n",
       "4  21              android         Completed        9/27/2019      JPN   \n",
       "\n",
       "  Subscription Type Subscription Event Type Purchase Store  \\\n",
       "0           Limited        INITIAL_PURCHASE            Web   \n",
       "1           Limited        INITIAL_PURCHASE            Web   \n",
       "2           Limited                 RENEWAL            App   \n",
       "3           Limited        INITIAL_PURCHASE            Web   \n",
       "4           Limited        INITIAL_PURCHASE            Web   \n",
       "\n",
       "  Subscription Start Date Subscription Expiration Demo User Free Trial User  \\\n",
       "0               8/23/2019              11/23/2019       Yes              No   \n",
       "1                3/7/2020                6/7/2020       Yes              No   \n",
       "2               5/16/2019               5/16/2020       Yes              No   \n",
       "3               3/25/2020               3/25/2022        No              No   \n",
       "4               6/19/2019               6/19/2020       Yes              No   \n",
       "\n",
       "  Auto Renew    Country User Type Lead Platform Email Subscriber  \\\n",
       "0        Off  US/Canada  Consumer           App              Yes   \n",
       "1         On  US/Canada  Consumer           App              Yes   \n",
       "2         On     Europe  Consumer           App               No   \n",
       "3         On  US/Canada  Consumer           Web              Yes   \n",
       "4         On     Europe  Consumer           Web               No   \n",
       "\n",
       "  Push Notifications  Time Duration_Months  \n",
       "0                Yes                   3.0  \n",
       "1                Yes                   3.0  \n",
       "2                Yes                  12.0  \n",
       "3                Yes                  24.0  \n",
       "4                Yes                  12.0  "
      ]
     },
     "execution_count": 100,
     "metadata": {},
     "output_type": "execute_result"
    }
   ],
   "source": [
    "new_hold = pd.concat([comp_app, else_app], axis=0)\n",
    "new_new = new_hold.drop_duplicates(subset=['ID'])\n",
    "new_new = new_new.merge(data, how='left', on='ID')\n",
    "new_new = new_new.drop_duplicates(subset=['ID'])\n",
    "new_new.head()"
   ]
  },
  {
   "cell_type": "code",
   "execution_count": 105,
   "id": "63ede840",
   "metadata": {},
   "outputs": [
    {
     "data": {
      "text/plain": [
       "Lead Platform\n",
       "App        8.013128\n",
       "Unknown    8.142076\n",
       "Web        8.747892\n",
       "Name: Time Duration_Months, dtype: float64"
      ]
     },
     "execution_count": 105,
     "metadata": {},
     "output_type": "execute_result"
    }
   ],
   "source": [
    "hold = new_new[\"Subscription Type\"] == \"Limited\"\n",
    "new_hold = new_new.loc[hold]\n",
    "\n",
    "new_hold.groupby('Lead Platform')['Time Duration_Months'].mean()"
   ]
  },
  {
   "cell_type": "code",
   "execution_count": 104,
   "id": "4675c675",
   "metadata": {},
   "outputs": [
    {
     "data": {
      "text/plain": [
       "963.0"
      ]
     },
     "execution_count": 104,
     "metadata": {},
     "output_type": "execute_result"
    }
   ],
   "source": []
  },
  {
   "cell_type": "code",
   "execution_count": 113,
   "id": "a8955da9",
   "metadata": {},
   "outputs": [
    {
     "data": {
      "image/png": "[encoded data removed]",
      "text/plain": [
       "<Figure size 864x432 with 1 Axes>"
      ]
     },
     "metadata": {
      "needs_background": "light"
     },
     "output_type": "display_data"
    }
   ],
   "source": [
    "hold = new_new[\"Subscription Event Type\"] == \"RENEWAL\"\n",
    "a_hold = new_new.loc[hold]\n",
    "\n",
    "ax = a_hold['Purchase Store'].value_counts().plot(kind='bar',\n",
    "                                    figsize=(12,6),\n",
    "                                    title=\"Subscribers by Country\",\n",
    "                                    color = color_list)\n",
    "\n"
   ]
  },
  {
   "cell_type": "code",
   "execution_count": null,
   "id": "9a49a0cb",
   "metadata": {},
   "outputs": [],
   "source": []
  }
 ],
 "metadata": {
  "kernelspec": {
   "display_name": "Python 3",
   "language": "python",
   "name": "python3"
  },
  "language_info": {
   "codemirror_mode": {
    "name": "ipython",
    "version": 3
   },
   "file_extension": ".py",
   "mimetype": "text/x-python",
   "name": "python",
   "nbconvert_exporter": "python",
   "pygments_lexer": "ipython3",
   "version": "3.8.8"
  }
 },
 "nbformat": 4,
 "nbformat_minor": 5
}
